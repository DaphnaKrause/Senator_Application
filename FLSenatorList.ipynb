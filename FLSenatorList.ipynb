{
 "cells": [
  {
   "cell_type": "code",
   "execution_count": 9,
   "metadata": {},
   "outputs": [],
   "source": [
    "import csv\n",
    "from bs4 import BeautifulSoup\n",
    "import csv\n",
    "import requests\n",
    "\n",
    "session = requests.Session()\n",
    "hdr = {'User-Agent':'Mozilla/5.0 (Macintosh; Intel Mac OS X 10_13_6) AppleWebKit/537.36 (KHTML, like Gecko) Chrome/72.0.3626.121 Safari/537.36',\n",
    "           'Accept':'text/html,application/xhtml+xml,application/xml;q=0.9,image/webp,*/*;q=0.8',\n",
    "           'Accept-Charset': 'ISO-8859-1,utf-8;q=0.7,*;q=0.3',\n",
    "           'Accept-Encoding': 'none',\n",
    "           'Accept-Language': 'en-US,en;q=0.8',\n",
    "           'Connection': 'keep-alive'}\n",
    "url = 'http://www.flsenate.gov/Senators/#Senators'\n",
    "req = session.get(url, headers=hdr)\n",
    "bsObj = BeautifulSoup(req.text, \"html.parser\")\n"
   ]
  },
  {
   "cell_type": "code",
   "execution_count": 10,
   "metadata": {},
   "outputs": [
    {
     "data": {
      "text/plain": [
       "72"
      ]
     },
     "execution_count": 10,
     "metadata": {},
     "output_type": "execute_result"
    }
   ],
   "source": [
    "csvfile = open(\"senatorList.csv\", 'w', newline='', encoding='utf-8')\n",
    "# make a new variable, c, for Python's CSV writer object -\n",
    "c = csv.writer(csvfile)\n",
    "c.writerow(['SENATOR_FULLNAME','LAST_NAME','SENATE_LINK','DISTRICT','PARTY','COUNTIES','PICTURE'])"
   ]
  },
  {
   "cell_type": "code",
   "execution_count": 11,
   "metadata": {},
   "outputs": [
    {
     "ename": "AttributeError",
     "evalue": "'NoneType' object has no attribute 'text'",
     "output_type": "error",
     "traceback": [
      "\u001b[0;31m---------------------------------------------------------------------------\u001b[0m",
      "\u001b[0;31mAttributeError\u001b[0m                            Traceback (most recent call last)",
      "\u001b[0;32m<ipython-input-11-cd0d5efa0192>\u001b[0m in \u001b[0;36m<module>\u001b[0;34m\u001b[0m\n\u001b[1;32m      3\u001b[0m \u001b[0;32mfor\u001b[0m \u001b[0mtr\u001b[0m \u001b[0;32min\u001b[0m \u001b[0mbsObj\u001b[0m\u001b[0;34m.\u001b[0m\u001b[0mfindAll\u001b[0m\u001b[0;34m(\u001b[0m\u001b[0;34m'tr'\u001b[0m\u001b[0;34m)\u001b[0m\u001b[0;34m[\u001b[0m\u001b[0;36m1\u001b[0m\u001b[0;34m:\u001b[0m\u001b[0;34m]\u001b[0m\u001b[0;34m:\u001b[0m\u001b[0;34m\u001b[0m\u001b[0;34m\u001b[0m\u001b[0m\n\u001b[1;32m      4\u001b[0m \u001b[0;34m\u001b[0m\u001b[0m\n\u001b[0;32m----> 5\u001b[0;31m     \u001b[0msenatorName\u001b[0m \u001b[0;34m=\u001b[0m \u001b[0mtr\u001b[0m\u001b[0;34m.\u001b[0m\u001b[0mfind\u001b[0m\u001b[0;34m(\u001b[0m\u001b[0;34m'a'\u001b[0m\u001b[0;34m)\u001b[0m\u001b[0;34m.\u001b[0m\u001b[0mtext\u001b[0m\u001b[0;34m\u001b[0m\u001b[0;34m\u001b[0m\u001b[0m\n\u001b[0m\u001b[1;32m      6\u001b[0m     \u001b[0msenatorName\u001b[0m \u001b[0;34m=\u001b[0m \u001b[0msenatorName\u001b[0m\u001b[0;34m.\u001b[0m\u001b[0mstrip\u001b[0m\u001b[0;34m(\u001b[0m\u001b[0;34m)\u001b[0m\u001b[0;34m\u001b[0m\u001b[0;34m\u001b[0m\u001b[0m\n\u001b[1;32m      7\u001b[0m     \u001b[0;31m#print(senatorName)\u001b[0m\u001b[0;34m\u001b[0m\u001b[0;34m\u001b[0m\u001b[0;34m\u001b[0m\u001b[0m\n",
      "\u001b[0;31mAttributeError\u001b[0m: 'NoneType' object has no attribute 'text'"
     ]
    }
   ],
   "source": [
    "table = bsObj.find('table')\n",
    "\n",
    "for tr in bsObj.findAll('tr')[1:]:\n",
    "    \n",
    "    senatorName = tr.find('a').text\n",
    "    senatorName = senatorName.strip()\n",
    "    #print(senatorName)\n",
    "    \n",
    "   \n",
    "    senatorlastName = tr.find('a').text\n",
    "    senatorlastName = senatorlastName.split(\",\")\n",
    "    senatorlastName = senatorlastName.pop(0).strip(\" \\n\\r\\t\")\n",
    "    #print(senatorlastName)\n",
    "    \n",
    "    senatorLink = tr.find('a').get('href')\n",
    "    #print('http://www.flsenate.gov' + senatorLink)\n",
    "    \n",
    "    senatorDistrict = tr.findAll('td')[0]\n",
    "    senatorDistrict = senatorDistrict.text\n",
    "    senatorDistrict = senatorDistrict.strip()\n",
    "    #print(senatorDistrict)\n",
    "  \n",
    "    senatorParty = tr.findAll('td')[1]\n",
    "    senatorParty = senatorParty.text\n",
    "    senatorParty = senatorParty.strip()\n",
    "    #print(senatorParty)\n",
    "    \n",
    "    senatorCounties = tr.findAll('td')[2]\n",
    "    senatorCounties = senatorCounties.text\n",
    "    senatorCounties = senatorCounties.strip()\n",
    "    #print(senatorCounties)\n",
    "    \n",
    "    senatorPhoto = senatorlastName + '.jpg'\n",
    "    \n",
    "    c.writerow([senatorName,senatorlastName,'https://www.flsenate.gov' + senatorLink,senatorDistrict,senatorParty,senatorCounties,senatorPhoto])\n",
    "    \n",
    "    #WHY IS IT GIVING MY ALL THESE ERORRS?"
   ]
  },
  {
   "cell_type": "code",
   "execution_count": 12,
   "metadata": {},
   "outputs": [],
   "source": [
    "# close the csv file\n",
    "csvfile.close()"
   ]
  },
  {
   "cell_type": "code",
   "execution_count": null,
   "metadata": {},
   "outputs": [],
   "source": [
    "for tr in bsObj.findAll('tr')[1:]:\n",
    "    lastName=[]\n",
    "    name = tr.find('a').text\n",
    "    for slastName in name:\n",
    "        slastName = slastName.split(\",\")\n",
    "        lastName.extend(slastName)  \n",
    "return lastName\n",
    "print(lastName)"
   ]
  },
  {
   "cell_type": "code",
   "execution_count": null,
   "metadata": {},
   "outputs": [],
   "source": []
  }
 ],
 "metadata": {
  "kernelspec": {
   "display_name": "Python 3",
   "language": "python",
   "name": "python3"
  },
  "language_info": {
   "codemirror_mode": {
    "name": "ipython",
    "version": 3
   },
   "file_extension": ".py",
   "mimetype": "text/x-python",
   "name": "python",
   "nbconvert_exporter": "python",
   "pygments_lexer": "ipython3",
   "version": "3.7.2"
  }
 },
 "nbformat": 4,
 "nbformat_minor": 2
}
