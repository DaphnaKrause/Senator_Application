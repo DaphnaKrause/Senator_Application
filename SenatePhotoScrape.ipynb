{
 "cells": [
  {
   "cell_type": "code",
   "execution_count": 1,
   "metadata": {},
   "outputs": [],
   "source": [
    "import csv\n",
    "from bs4 import BeautifulSoup\n",
    "import csv\n",
    "import requests\n",
    "\n",
    "session = requests.Session()\n",
    "hdr = {'User-Agent':'Mozilla/5.0 (Macintosh; Intel Mac OS X 10_13_6) AppleWebKit/537.36 (KHTML, like Gecko) Chrome/72.0.3626.121 Safari/537.36',\n",
    "           'Accept':'text/html,application/xhtml+xml,application/xml;q=0.9,image/webp,*/*;q=0.8',\n",
    "           'Accept-Charset': 'ISO-8859-1,utf-8;q=0.7,*;q=0.3',\n",
    "           'Accept-Encoding': 'none',\n",
    "           'Accept-Language': 'en-US,en;q=0.8',\n",
    "           'Connection': 'keep-alive'}\n",
    "url = 'https://www.flsenate.gov/Senators/s12'\n",
    "req = session.get(url, headers=hdr)\n",
    "bsObj = BeautifulSoup(req.text, \"html.parser\")"
   ]
  },
  {
   "cell_type": "code",
   "execution_count": 2,
   "metadata": {},
   "outputs": [],
   "source": [
    "def get_photos():    \n",
    "    sidebar = bsObj.find('div',{'id':'sidebar'})\n",
    "    photo = sidebar.img\n",
    "    imgsrc = photo['src']\n",
    "    Photo_URL = 'https://www.flsenate.gov' + imgsrc\n",
    "\n",
    "    imgalt = photo['alt']\n",
    "    imgalt = imgalt.split(\" \")\n",
    "    imgalt = imgalt.pop()\n",
    "\n",
    "    #print(Photo_URL, imgalt)\n",
    "            \n",
    "    Picture_request = requests.get(Photo_URL)\n",
    "    if Picture_request.status_code == 200:\n",
    "        with open('/Users/daphnakrause/Documents_/Flask2019/Senate_App/static/images/'+ imgalt +'.jpg', 'wb') as f:\n",
    "        #put senator name in as image name!\n",
    "            f.write(Picture_request.content)"
   ]
  },
  {
   "cell_type": "code",
   "execution_count": 3,
   "metadata": {},
   "outputs": [],
   "source": [
    "for count in range(1, 41):\n",
    "    url = ('https://www.flsenate.gov/Senators/s')\n",
    "    new_url = (url + str(count))\n",
    "    req = session.get(new_url, headers=hdr)\n",
    "    bsObj = BeautifulSoup(req.text, \"html.parser\")\n",
    "    get_photos()\n",
    "    "
   ]
  },
  {
   "cell_type": "code",
   "execution_count": null,
   "metadata": {},
   "outputs": [],
   "source": []
  },
  {
   "cell_type": "code",
   "execution_count": null,
   "metadata": {},
   "outputs": [],
   "source": []
  },
  {
   "cell_type": "code",
   "execution_count": null,
   "metadata": {},
   "outputs": [],
   "source": [
    "#for name in bsObj.find_all('h2',{'class':'senatorName'}):\n",
    "    #print(name)"
   ]
  }
 ],
 "metadata": {
  "kernelspec": {
   "display_name": "Python 3",
   "language": "python",
   "name": "python3"
  },
  "language_info": {
   "codemirror_mode": {
    "name": "ipython",
    "version": 3
   },
   "file_extension": ".py",
   "mimetype": "text/x-python",
   "name": "python",
   "nbconvert_exporter": "python",
   "pygments_lexer": "ipython3",
   "version": "3.7.2"
  }
 },
 "nbformat": 4,
 "nbformat_minor": 2
}
