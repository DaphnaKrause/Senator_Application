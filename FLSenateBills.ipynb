{
 "cells": [
  {
   "cell_type": "code",
   "execution_count": 6,
   "metadata": {},
   "outputs": [],
   "source": [
    "import csv\n",
    "from bs4 import BeautifulSoup\n",
    "import csv\n",
    "import requests\n",
    "\n",
    "session = requests.Session()\n",
    "hdr = {'User-Agent':'Mozilla/5.0 (Macintosh; Intel Mac OS X 10_13_6) AppleWebKit/537.36 (KHTML, like Gecko) Chrome/72.0.3626.121 Safari/537.36',\n",
    "           'Accept':'text/html,application/xhtml+xml,application/xml;q=0.9,image/webp,*/*;q=0.8',\n",
    "           'Accept-Charset': 'ISO-8859-1,utf-8;q=0.7,*;q=0.3',\n",
    "           'Accept-Encoding': 'none',\n",
    "           'Accept-Language': 'en-US,en;q=0.8',\n",
    "           'Connection': 'keep-alive'}\n",
    "url = 'https://www.flsenate.gov/Session/Bills/2019?Chamber=senate&SearchOnlyCurrentVersion=True&IsIncludeAmendments=False&IsFirstReference=True&ParameterDescription=Searching%3A%202019%2C%20Senate%20Bills&HasInputError=False&PageNumber=1'\n",
    "req = session.get(url, headers=hdr)\n",
    "bsObj = BeautifulSoup(req.text, \"html.parser\")\n"
   ]
  },
  {
   "cell_type": "code",
   "execution_count": 7,
   "metadata": {},
   "outputs": [
    {
     "data": {
      "text/plain": [
       "58"
      ]
     },
     "execution_count": 7,
     "metadata": {},
     "output_type": "execute_result"
    }
   ],
   "source": [
    "csvfile = open(\"senatorList.csv\", 'w', newline='', encoding='utf-8')\n",
    "# make a new variable, c, for Python's CSV writer object -\n",
    "c = csv.writer(csvfile)\n",
    "c.writerow(['NUMBER','BILL_LINK','TITLE','FILED_BY','LAST_ACTION_AND_LOCATION'])"
   ]
  },
  {
   "cell_type": "code",
   "execution_count": 3,
   "metadata": {
    "scrolled": false
   },
   "outputs": [],
   "source": [
    "def get_bill():\n",
    "    table = bsObj.find('table')\n",
    "\n",
    "    for tr in bsObj.findAll('tr')[1:]:\n",
    "        billNum = tr.find('th')\n",
    "        billNum = billNum.text\n",
    "        billNum = billNum.strip()\n",
    "        #print(billNum.text)\n",
    "        \n",
    "        billLink = tr.find('a').get('href')\n",
    "        #print('https://www.flsenate.gov' + billLink)\n",
    "    \n",
    "        title = tr.findAll('td')[0]\n",
    "        #print(title.text)\n",
    "        title = title.text\n",
    "        title = title.strip()\n",
    "\n",
    "        filedBy = tr.findAll('td')[1]\n",
    "        #print(filedBy.text)\n",
    "        filedBy = filedBy.text\n",
    "        filedBy = filedBy.strip()\n",
    "    \n",
    "        lal = tr.findAll('td')[2]\n",
    "        #print(lal.text)\n",
    "        lal = lal.text\n",
    "        lal = lal.strip()\n",
    "    \n",
    "        c.writerow([billNum,'https://www.flsenate.gov' + billLink,title,filedBy,lal])\n",
    "    \n"
   ]
  },
  {
   "cell_type": "code",
   "execution_count": 4,
   "metadata": {},
   "outputs": [],
   "source": [
    "for count in range(1, 21):\n",
    "    url = ('https://www.flsenate.gov/Session/Bills/2019?Chamber=senate&SearchOnlyCurrentVersion=True&IsIncludeAmendments=False&IsFirstReference=True&ParameterDescription=Searching%3A%202019%2C%20Senate%20Bills&HasInputError=False&PageNumber=')\n",
    "    new_url = (url + str(count))\n",
    "    req = session.get(new_url, headers=hdr)\n",
    "    bsObj = BeautifulSoup(req.text, \"html.parser\")\n",
    "    get_bill()\n",
    "    "
   ]
  },
  {
   "cell_type": "code",
   "execution_count": 5,
   "metadata": {},
   "outputs": [],
   "source": [
    "# close the csv file\n",
    "#PAUSE BEFORE RUNNING THIS CELL\n",
    "csvfile.close()"
   ]
  },
  {
   "cell_type": "code",
   "execution_count": null,
   "metadata": {},
   "outputs": [],
   "source": []
  },
  {
   "cell_type": "code",
   "execution_count": null,
   "metadata": {},
   "outputs": [],
   "source": [
    " "
   ]
  }
 ],
 "metadata": {
  "kernelspec": {
   "display_name": "Python 3",
   "language": "python",
   "name": "python3"
  },
  "language_info": {
   "codemirror_mode": {
    "name": "ipython",
    "version": 3
   },
   "file_extension": ".py",
   "mimetype": "text/x-python",
   "name": "python",
   "nbconvert_exporter": "python",
   "pygments_lexer": "ipython3",
   "version": "3.7.2"
  }
 },
 "nbformat": 4,
 "nbformat_minor": 2
}
